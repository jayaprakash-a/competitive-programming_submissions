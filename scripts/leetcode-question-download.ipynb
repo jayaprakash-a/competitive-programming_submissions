{
 "cells": [
  {
   "cell_type": "code",
   "execution_count": 1,
   "metadata": {},
   "outputs": [],
   "source": [
    "import requests\n",
    "import time\n",
    "import json\n",
    "import math\n",
    "import os\n",
    "import threading\n",
    "import datetime\n",
    "from markdownify import markdownify as md\n",
    "\n",
    "from lib.problem.leetcode import LeetCodeProblem"
   ]
  },
  {
   "cell_type": "code",
   "execution_count": 2,
   "metadata": {},
   "outputs": [],
   "source": [
    "headers = {\n",
    "    'authority': 'leetcode.com',\n",
    "    'accept': 'application/json, text/javascript, */*; q=0.01',\n",
    "    'x-newrelic-id': 'UAQDVFVRGwEAXVlbBAg=',\n",
    "    'x-requested-with': 'XMLHttpRequest',\n",
    "    'user-agent': 'Mozilla/5.0 (Windows NT 6.1; Win64; x64) AppleWebKit/537.36 (KHTML, like Gecko) Chrome/90.0.4430.85 Safari/537.36',\n",
    "    'content-type': 'application/json',\n",
    "    'sec-gpc': '1',\n",
    "    'sec-fetch-site': 'same-origin',\n",
    "    'sec-fetch-mode': 'cors',\n",
    "    'sec-fetch-dest': 'empty',\n",
    "    'accept-language': 'en-US,en;q=0.9',\n",
    "    'cookie': 'csrftoken=SYt4auAHmprCYhMeGDZwbnE0hWoSLKRLHb0A7mMpbvoAEPvjYcIdL5LtaWhQJv6B; __cfduid=dc8614cf2c524abada1e54cfa8e118d271619065816; __cf_bm=08dec7596eec629845d4f3f39086483d491e2c40-1619324757-1800-AYKgjE4h5oPn/k7bslI317JZOCKGqrKvRQEJSKFM8EyY57yFeDgrM0KTqzs/c5RUfzN8A7VceydacsvxJjrmrp4=',\n",
    "}"
   ]
  },
  {
   "cell_type": "code",
   "execution_count": 7,
   "metadata": {},
   "outputs": [],
   "source": [
    "class LeetCodeApi:\n",
    "    def __init__(self):\n",
    "        self.levels = ['Easy', 'Medium', 'Hard']\n",
    "        self.colors = ['rgb(67, 160, 71)', 'rgb(239, 108, 0)', 'rgb(233, 30, 99)']\n",
    "    \n",
    "    def getQuestionInfo(self, questionSlug: str):\n",
    "        # getQuestionInfo\n",
    "        query = '{\"operationName\":\"questionData\",\"variables\":{\"titleSlug\":\\\"'+questionSlug+'\\\"},\"query\":\"query questionData($titleSlug: String!) {\\\\n  question(titleSlug: $titleSlug) {\\\\n    questionId\\\\n    questionFrontendId\\\\n    boundTopicId\\\\n    title\\\\n    titleSlug\\\\n    content\\\\n    translatedTitle\\\\n    translatedContent\\\\n    isPaidOnly\\\\n    difficulty\\\\n    likes\\\\n    dislikes\\\\n    isLiked\\\\n    similarQuestions\\\\n    exampleTestcases\\\\n    contributors {\\\\n      username\\\\n      profileUrl\\\\n      avatarUrl\\\\n      __typename\\\\n    }\\\\n    topicTags {\\\\n      name\\\\n      slug\\\\n      translatedName\\\\n      __typename\\\\n    }\\\\n    companyTagStats\\\\n    codeSnippets {\\\\n      lang\\\\n      langSlug\\\\n      code\\\\n      __typename\\\\n    }\\\\n    stats\\\\n    hints\\\\n    solution {\\\\n      id\\\\n      canSeeDetail\\\\n      paidOnly\\\\n      hasVideoSolution\\\\n      paidOnlyVideo\\\\n      __typename\\\\n    }\\\\n    status\\\\n    sampleTestCase\\\\n    metaData\\\\n    judgerAvailable\\\\n    judgeType\\\\n    mysqlSchemas\\\\n    enableRunCode\\\\n    enableTestMode\\\\n    enableDebugger\\\\n    envInfo\\\\n    libraryUrl\\\\n    adminUrl\\\\n    __typename\\\\n  }\\\\n}\\\\n\"}'\n",
    "        response = requests.post('https://leetcode.com/graphql', headers=headers, data=query).content\n",
    "        response = json.loads(response)\n",
    "        question = response['data']['question']\n",
    "        markdown = md(question['content'], heading_style=\"ATX\")\n",
    "#         print(question['content'])\n",
    "        print(question['exampleTestcases'])\n",
    "        print(question['codeSnippets'][0]['code'])\n",
    "        print(markdown)\n",
    "        print(question['difficulty'])\n",
    "        print(question['topicTags'])\n",
    "        print(question['hints'])\n",
    "        \n",
    "    def getAlgorithmProblems(self):\n",
    "        problems = []\n",
    "        id_problem_dict = {}\n",
    "        response = json.loads(requests.get('https://leetcode.com/api/problems/algorithms/').content)\n",
    "        for item in response['stat_status_pairs']:\n",
    "            problem = LeetCodeProblem(\n",
    "                identifier=item['stat']['frontend_question_id'],\n",
    "                title=item['stat']['question__title'],\n",
    "                slug=item['stat']['question__title_slug'],\n",
    "                source_type='Practice',\n",
    "                solution_slug=item['stat']['question__article__slug'],\n",
    "                difficulty=self.levels[item['difficulty']['level'] - 1],\n",
    "                status='na' if item['status'] is None else item['status'],\n",
    "                is_premium=item['paid_only']\n",
    "            )\n",
    "            id_problem_dict[int(problem.identifier)] = problem\n",
    "            problems.append(problem)\n",
    "        return problems, id_problem_dict"
   ]
  },
  {
   "cell_type": "code",
   "execution_count": 4,
   "metadata": {},
   "outputs": [
    {
     "name": "stdout",
     "output_type": "stream",
     "text": [
      "[2,7,11,15]\n",
      "9\n",
      "[3,2,4]\n",
      "6\n",
      "[3,3]\n",
      "6\n",
      "class Solution {\n",
      "public:\n",
      "    vector<int> twoSum(vector<int>& nums, int target) {\n",
      "        \n",
      "    }\n",
      "};\n",
      "Given an array of integers `nums` and an integer `target`, return *indices of the two numbers such that they add up to `target`*.\n",
      "\n",
      "\n",
      "You may assume that each input would have ***exactly* one solution**, and you may not use the *same* element twice.\n",
      "\n",
      "\n",
      "You can return the answer in any order.\n",
      "\n",
      "\n",
      " \n",
      "\n",
      "\n",
      "**Example 1:**\n",
      "\n",
      "\n",
      "\n",
      "```\n",
      "\n",
      "**Input:** nums = [2,7,11,15], target = 9\n",
      "**Output:** [0,1]\n",
      "**Output:** Because nums[0] + nums[1] == 9, we return [0, 1].\n",
      "\n",
      "```\n",
      "\n",
      "**Example 2:**\n",
      "\n",
      "\n",
      "\n",
      "```\n",
      "\n",
      "**Input:** nums = [3,2,4], target = 6\n",
      "**Output:** [1,2]\n",
      "\n",
      "```\n",
      "\n",
      "**Example 3:**\n",
      "\n",
      "\n",
      "\n",
      "```\n",
      "\n",
      "**Input:** nums = [3,3], target = 6\n",
      "**Output:** [0,1]\n",
      "\n",
      "```\n",
      "\n",
      " \n",
      "\n",
      "\n",
      "**Constraints:**\n",
      "\n",
      "\n",
      "* `2 <= nums.length <= 104`\n",
      "* `-109 <= nums[i] <= 109`\n",
      "* `-109 <= target <= 109`\n",
      "* **Only one valid answer exists.**\n",
      "\n",
      "\n",
      " \n",
      "\n",
      "\n",
      "**Follow-up:**Can you come up with an algorithm that is less than `O(n2)`time complexity?\n",
      "Easy\n",
      "[{'name': 'Array', 'slug': 'array', 'translatedName': None, '__typename': 'TopicTagNode'}, {'name': 'Hash Table', 'slug': 'hash-table', 'translatedName': None, '__typename': 'TopicTagNode'}]\n",
      "[\"A really brute force way would be to search for all possible pairs of numbers but that would be too slow. Again, it's best to try out brute force solutions for just for completeness. It is from these brute force solutions that you can come up with optimizations.\", 'So, if we fix one of the numbers, say <pre>x</pre>, we have to scan the entire array to find the next number <pre>y</pre> which is <pre>value - x</pre> where value is the input parameter. Can we change our array somehow so that this search becomes faster?', 'The second train of thought is, without changing the array, can we use additional space somehow? Like maybe a hash map to speed up the search?']\n"
     ]
    }
   ],
   "source": [
    "leetcode = LeetCodeApi()\n",
    "leetcode.getQuestionInfo(\"two-sum\")"
   ]
  },
  {
   "cell_type": "code",
   "execution_count": 12,
   "metadata": {},
   "outputs": [
    {
     "name": "stdout",
     "output_type": "stream",
     "text": [
      "--- Problem ---\n",
      "      ID: 1924\n",
      "   Title: Erect the Fence II\n",
      "Solution: None\n",
      "\n"
     ]
    }
   ],
   "source": [
    "problems, _ = leetcode.getAlgorithmProblems()\n",
    "print(problems[0])"
   ]
  },
  {
   "cell_type": "code",
   "execution_count": null,
   "metadata": {},
   "outputs": [],
   "source": []
  }
 ],
 "metadata": {
  "kernelspec": {
   "display_name": "Python 3",
   "language": "python",
   "name": "python3"
  },
  "language_info": {
   "codemirror_mode": {
    "name": "ipython",
    "version": 3
   },
   "file_extension": ".py",
   "mimetype": "text/x-python",
   "name": "python",
   "nbconvert_exporter": "python",
   "pygments_lexer": "ipython3",
   "version": "3.7.4"
  }
 },
 "nbformat": 4,
 "nbformat_minor": 2
}
